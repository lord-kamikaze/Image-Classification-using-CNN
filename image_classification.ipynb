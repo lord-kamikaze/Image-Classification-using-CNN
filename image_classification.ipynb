{
 "cells": [
  {
   "cell_type": "code",
   "execution_count": 4,
   "id": "da30f291",
   "metadata": {},
   "outputs": [],
   "source": [
    "import tensorflow as tf\n",
    "from tensorflow.keras import layers, models\n",
    "from tensorflow.keras.optimizers import Adam\n",
    "from tensorflow.keras.datasets import mnist\n",
    "import numpy as np"
   ]
  },
  {
   "cell_type": "code",
   "execution_count": 5,
   "id": "ca053ca7",
   "metadata": {},
   "outputs": [],
   "source": [
    "(x_train, y_train), (x_test, y_test) = mnist.load_data()\n",
    "x_train, x_test = x_train / 255.0, x_test / 255.0"
   ]
  },
  {
   "cell_type": "code",
   "execution_count": 6,
   "id": "be1d8d84",
   "metadata": {},
   "outputs": [
    {
     "name": "stdout",
     "output_type": "stream",
     "text": [
      "WARNING:tensorflow:From C:\\Users\\Admin\\AppData\\Roaming\\Python\\Python39\\site-packages\\keras\\src\\backend.py:873: The name tf.get_default_graph is deprecated. Please use tf.compat.v1.get_default_graph instead.\n",
      "\n",
      "WARNING:tensorflow:From C:\\Users\\Admin\\AppData\\Roaming\\Python\\Python39\\site-packages\\keras\\src\\layers\\pooling\\max_pooling2d.py:161: The name tf.nn.max_pool is deprecated. Please use tf.nn.max_pool2d instead.\n",
      "\n"
     ]
    }
   ],
   "source": [
    "model = models.Sequential()\n",
    "model.add(layers.Conv2D(32, (3, 3), strides=(2, 2), activation='relu', input_shape=(28, 28, 1)))\n",
    "model.add(layers.MaxPooling2D((2, 2), strides=(1, 1)))\n",
    "model.add(layers.Conv2D(16, (4, 4), strides=(2, 2), activation='relu'))\n",
    "model.add(layers.MaxPooling2D((4, 4), strides=(2, 2)))\n",
    "model.add(layers.Flatten())\n",
    "model.add(layers.Dense(8, activation='relu'))\n",
    "model.add(layers.Dense(10, activation='softmax'))"
   ]
  },
  {
   "cell_type": "code",
   "execution_count": 7,
   "id": "26afc976",
   "metadata": {},
   "outputs": [],
   "source": [
    "model.compile(optimizer=Adam(learning_rate=0.01), loss='sparse_categorical_crossentropy', metrics=['accuracy'])\n"
   ]
  },
  {
   "cell_type": "code",
   "execution_count": 8,
   "id": "902ad46e",
   "metadata": {},
   "outputs": [
    {
     "name": "stdout",
     "output_type": "stream",
     "text": [
      "Epoch 1/5\n",
      "WARNING:tensorflow:From C:\\Users\\Admin\\AppData\\Roaming\\Python\\Python39\\site-packages\\keras\\src\\utils\\tf_utils.py:492: The name tf.ragged.RaggedTensorValue is deprecated. Please use tf.compat.v1.ragged.RaggedTensorValue instead.\n",
      "\n",
      "WARNING:tensorflow:From C:\\Users\\Admin\\AppData\\Roaming\\Python\\Python39\\site-packages\\keras\\src\\engine\\base_layer_utils.py:384: The name tf.executing_eagerly_outside_functions is deprecated. Please use tf.compat.v1.executing_eagerly_outside_functions instead.\n",
      "\n",
      "469/469 - 7s - loss: 0.7018 - accuracy: 0.7665 - 7s/epoch - 16ms/step\n",
      "Epoch 2/5\n",
      "469/469 - 3s - loss: 0.3038 - accuracy: 0.9082 - 3s/epoch - 7ms/step\n",
      "Epoch 3/5\n",
      "469/469 - 3s - loss: 0.2421 - accuracy: 0.9272 - 3s/epoch - 7ms/step\n",
      "Epoch 4/5\n",
      "469/469 - 3s - loss: 0.2120 - accuracy: 0.9351 - 3s/epoch - 7ms/step\n",
      "Epoch 5/5\n",
      "469/469 - 3s - loss: 0.1956 - accuracy: 0.9410 - 3s/epoch - 7ms/step\n",
      "313/313 - 1s - loss: 0.2174 - accuracy: 0.9352 - 766ms/epoch - 2ms/step\n",
      "Test Accuracy: 0.9351999759674072\n",
      "Epoch 1/5\n",
      "469/469 - 3s - loss: 0.1825 - accuracy: 0.9445 - 3s/epoch - 7ms/step\n",
      "Epoch 2/5\n",
      "469/469 - 4s - loss: 0.1691 - accuracy: 0.9491 - 4s/epoch - 8ms/step\n",
      "Epoch 3/5\n",
      "469/469 - 4s - loss: 0.1642 - accuracy: 0.9497 - 4s/epoch - 8ms/step\n",
      "Epoch 4/5\n",
      "469/469 - 4s - loss: 0.1565 - accuracy: 0.9520 - 4s/epoch - 8ms/step\n",
      "Epoch 5/5\n",
      "469/469 - 3s - loss: 0.1524 - accuracy: 0.9543 - 3s/epoch - 7ms/step\n",
      "313/313 - 1s - loss: 0.1814 - accuracy: 0.9456 - 547ms/epoch - 2ms/step\n",
      "Test Accuracy: 0.9455999732017517\n",
      "Epoch 1/5\n",
      "469/469 - 3s - loss: 0.1477 - accuracy: 0.9547 - 3s/epoch - 7ms/step\n",
      "Epoch 2/5\n",
      "469/469 - 3s - loss: 0.1471 - accuracy: 0.9548 - 3s/epoch - 7ms/step\n",
      "Epoch 3/5\n",
      "469/469 - 3s - loss: 0.1432 - accuracy: 0.9559 - 3s/epoch - 7ms/step\n",
      "Epoch 4/5\n",
      "469/469 - 3s - loss: 0.1376 - accuracy: 0.9579 - 3s/epoch - 7ms/step\n",
      "Epoch 5/5\n",
      "469/469 - 3s - loss: 0.1356 - accuracy: 0.9574 - 3s/epoch - 7ms/step\n",
      "313/313 - 0s - loss: 0.2237 - accuracy: 0.9377 - 484ms/epoch - 2ms/step\n",
      "Test Accuracy: 0.9376999735832214\n"
     ]
    }
   ],
   "source": [
    "for _ in range(3):\n",
    "    model.fit(np.expand_dims(x_train, axis=-1), y_train, batch_size=128, epochs=5, verbose=2)\n",
    "    _, test_accuracy = model.evaluate(np.expand_dims(x_test, axis=-1), y_test, verbose=2)\n",
    "    print(f'Test Accuracy: {test_accuracy}')\n"
   ]
  },
  {
   "cell_type": "code",
   "execution_count": 9,
   "id": "4ef6ad1f",
   "metadata": {},
   "outputs": [],
   "source": [
    "model = models.Sequential()\n",
    "model.add(layers.Conv2D(32, (3, 3), strides=(2, 2), activation='relu', input_shape=(28, 28, 1)))\n",
    "model.add(layers.AveragePooling2D((2, 2), strides=(1, 1)))\n",
    "model.add(layers.Conv2D(16, (4, 4), strides=(2, 2), activation='relu'))\n",
    "model.add(layers.AveragePooling2D((4, 4), strides=(2, 2)))\n",
    "model.add(layers.Flatten())\n",
    "model.add(layers.Dense(8, activation='relu'))\n",
    "model.add(layers.Dense(10, activation='softmax'))\n"
   ]
  },
  {
   "cell_type": "code",
   "execution_count": 10,
   "id": "6548dbdb",
   "metadata": {},
   "outputs": [],
   "source": [
    "model.compile(optimizer=Adam(learning_rate=0.01), loss='sparse_categorical_crossentropy', metrics=['accuracy'])"
   ]
  },
  {
   "cell_type": "code",
   "execution_count": 11,
   "id": "1f5c49a9",
   "metadata": {},
   "outputs": [
    {
     "name": "stdout",
     "output_type": "stream",
     "text": [
      "Epoch 1/5\n",
      "469/469 - 4s - loss: 1.2028 - accuracy: 0.5755 - 4s/epoch - 8ms/step\n",
      "Epoch 2/5\n",
      "469/469 - 3s - loss: 0.6332 - accuracy: 0.7951 - 3s/epoch - 7ms/step\n",
      "Epoch 3/5\n",
      "469/469 - 3s - loss: 0.4770 - accuracy: 0.8487 - 3s/epoch - 6ms/step\n",
      "Epoch 4/5\n",
      "469/469 - 3s - loss: 0.3978 - accuracy: 0.8751 - 3s/epoch - 7ms/step\n",
      "Epoch 5/5\n",
      "469/469 - 3s - loss: 0.3583 - accuracy: 0.8880 - 3s/epoch - 7ms/step\n",
      "313/313 - 0s - loss: 0.3497 - accuracy: 0.8885 - 475ms/epoch - 2ms/step\n",
      "Test Accuracy: 0.8884999752044678\n",
      "Epoch 1/5\n",
      "469/469 - 3s - loss: 0.3172 - accuracy: 0.9023 - 3s/epoch - 6ms/step\n",
      "Epoch 2/5\n",
      "469/469 - 3s - loss: 0.3035 - accuracy: 0.9065 - 3s/epoch - 6ms/step\n",
      "Epoch 3/5\n",
      "469/469 - 3s - loss: 0.2885 - accuracy: 0.9121 - 3s/epoch - 6ms/step\n",
      "Epoch 4/5\n",
      "469/469 - 3s - loss: 0.2717 - accuracy: 0.9171 - 3s/epoch - 7ms/step\n",
      "Epoch 5/5\n",
      "469/469 - 3s - loss: 0.2674 - accuracy: 0.9183 - 3s/epoch - 6ms/step\n",
      "313/313 - 0s - loss: 0.2816 - accuracy: 0.9123 - 418ms/epoch - 1ms/step\n",
      "Test Accuracy: 0.9122999906539917\n",
      "Epoch 1/5\n",
      "469/469 - 3s - loss: 0.2608 - accuracy: 0.9203 - 3s/epoch - 6ms/step\n",
      "Epoch 2/5\n",
      "469/469 - 3s - loss: 0.2511 - accuracy: 0.9237 - 3s/epoch - 6ms/step\n",
      "Epoch 3/5\n",
      "469/469 - 3s - loss: 0.2422 - accuracy: 0.9265 - 3s/epoch - 6ms/step\n",
      "Epoch 4/5\n",
      "469/469 - 3s - loss: 0.2426 - accuracy: 0.9260 - 3s/epoch - 7ms/step\n",
      "Epoch 5/5\n",
      "469/469 - 3s - loss: 0.2317 - accuracy: 0.9287 - 3s/epoch - 6ms/step\n",
      "313/313 - 0s - loss: 0.2106 - accuracy: 0.9351 - 375ms/epoch - 1ms/step\n",
      "Test Accuracy: 0.9351000189781189\n"
     ]
    }
   ],
   "source": [
    "for _ in range(3):\n",
    "    model.fit(np.expand_dims(x_train, axis=-1), y_train, batch_size=128, epochs=5, verbose=2)\n",
    "    _, test_accuracy = model.evaluate(np.expand_dims(x_test, axis=-1), y_test, verbose=2)\n",
    "    print(f'Test Accuracy: {test_accuracy}')"
   ]
  },
  {
   "cell_type": "code",
   "execution_count": 12,
   "id": "f998e9cc",
   "metadata": {},
   "outputs": [],
   "source": [
    "import tensorflow as tf\n",
    "from tensorflow.keras import layers, models\n",
    "from tensorflow.keras.optimizers import Adam\n",
    "from tensorflow.keras.datasets import mnist\n",
    "import numpy as np"
   ]
  },
  {
   "cell_type": "code",
   "execution_count": 13,
   "id": "7bbed35c",
   "metadata": {},
   "outputs": [],
   "source": [
    "(x_train, y_train), (x_test, y_test) = mnist.load_data()\n",
    "x_train, x_test = x_train / 255.0, x_test / 255.0\n"
   ]
  },
  {
   "cell_type": "code",
   "execution_count": 14,
   "id": "d12191eb",
   "metadata": {},
   "outputs": [],
   "source": [
    "model = models.Sequential()\n",
    "\n",
    "model.add(layers.Conv2D(32, (3, 3), strides=(2, 2), activation='relu', padding='same', input_shape=(28, 28, 1)))\n",
    "\n",
    "model.add(layers.MaxPooling2D((2, 2), strides=(1, 1)))\n",
    "\n",
    "model.add(layers.Conv2D(16, (4, 4), strides=(2, 2), activation='relu'))\n",
    "\n",
    "model.add(layers.MaxPooling2D((4, 4), strides=(2, 2)))\n",
    "\n",
    "model.add(layers.Flatten())\n",
    "\n",
    "model.add(layers.Dense(8, activation='relu'))\n",
    "\n",
    "model.add(layers.Dense(10, activation='softmax'))\n",
    "\n",
    "model.compile(optimizer=Adam(learning_rate=0.01), loss='sparse_categorical_crossentropy', metrics=['accuracy'])\n"
   ]
  },
  {
   "cell_type": "code",
   "execution_count": 15,
   "id": "d416c75a",
   "metadata": {},
   "outputs": [
    {
     "name": "stdout",
     "output_type": "stream",
     "text": [
      "Epoch 1/5\n",
      "469/469 - 4s - loss: 0.9295 - accuracy: 0.6695 - 4s/epoch - 9ms/step\n",
      "Epoch 2/5\n",
      "469/469 - 3s - loss: 0.4880 - accuracy: 0.8428 - 3s/epoch - 7ms/step\n",
      "Epoch 3/5\n",
      "469/469 - 3s - loss: 0.3969 - accuracy: 0.8743 - 3s/epoch - 7ms/step\n",
      "Epoch 4/5\n",
      "469/469 - 3s - loss: 0.3507 - accuracy: 0.8897 - 3s/epoch - 7ms/step\n",
      "Epoch 5/5\n",
      "469/469 - 3s - loss: 0.3128 - accuracy: 0.9036 - 3s/epoch - 7ms/step\n",
      "313/313 - 1s - loss: 0.2770 - accuracy: 0.9170 - 552ms/epoch - 2ms/step\n",
      "Test Accuracy: 0.9169999957084656\n",
      "Epoch 1/5\n",
      "469/469 - 3s - loss: 0.2820 - accuracy: 0.9147 - 3s/epoch - 7ms/step\n",
      "Epoch 2/5\n",
      "469/469 - 3s - loss: 0.2613 - accuracy: 0.9212 - 3s/epoch - 7ms/step\n",
      "Epoch 3/5\n",
      "469/469 - 3s - loss: 0.2531 - accuracy: 0.9235 - 3s/epoch - 7ms/step\n",
      "Epoch 4/5\n",
      "469/469 - 3s - loss: 0.2327 - accuracy: 0.9285 - 3s/epoch - 7ms/step\n",
      "Epoch 5/5\n",
      "469/469 - 3s - loss: 0.2250 - accuracy: 0.9312 - 3s/epoch - 7ms/step\n",
      "313/313 - 0s - loss: 0.2193 - accuracy: 0.9323 - 411ms/epoch - 1ms/step\n",
      "Test Accuracy: 0.9322999715805054\n",
      "Epoch 1/5\n",
      "469/469 - 3s - loss: 0.2176 - accuracy: 0.9337 - 3s/epoch - 7ms/step\n",
      "Epoch 2/5\n",
      "469/469 - 3s - loss: 0.2147 - accuracy: 0.9343 - 3s/epoch - 7ms/step\n",
      "Epoch 3/5\n",
      "469/469 - 3s - loss: 0.2150 - accuracy: 0.9348 - 3s/epoch - 7ms/step\n",
      "Epoch 4/5\n",
      "469/469 - 3s - loss: 0.2081 - accuracy: 0.9362 - 3s/epoch - 7ms/step\n",
      "Epoch 5/5\n",
      "469/469 - 3s - loss: 0.2007 - accuracy: 0.9387 - 3s/epoch - 7ms/step\n",
      "313/313 - 0s - loss: 0.2068 - accuracy: 0.9372 - 397ms/epoch - 1ms/step\n",
      "Test Accuracy: 0.9372000098228455\n"
     ]
    }
   ],
   "source": [
    "for _ in range(3):\n",
    "    model.fit(np.expand_dims(x_train, axis=-1), y_train, batch_size=128, epochs=5, verbose=2)\n",
    "    _, test_accuracy = model.evaluate(np.expand_dims(x_test, axis=-1), y_test, verbose=2)\n",
    "    print(f'Test Accuracy: {test_accuracy}')\n"
   ]
  },
  {
   "cell_type": "code",
   "execution_count": 19,
   "id": "49a66ea8",
   "metadata": {},
   "outputs": [],
   "source": [
    "(x_train, y_train), (x_test, y_test) = mnist.load_data()\n",
    "x_train, x_test = x_train / 255.0, x_test / 255.0"
   ]
  },
  {
   "cell_type": "code",
   "execution_count": 20,
   "id": "14a1a29f",
   "metadata": {},
   "outputs": [],
   "source": [
    "model = models.Sequential()\n",
    "\n",
    "model.add(layers.Conv2D(32, (3, 3), strides=(2, 2), activation='relu', padding='same', input_shape=(28, 28, 1)))\n",
    "\n",
    "model.add(layers.MaxPooling2D((2, 2), strides=(1, 1)))\n",
    "\n",
    "model.add(layers.Conv2D(16, (4, 4), strides=(2, 2), activation='relu', padding='same'))\n",
    "\n",
    "model.add(layers.MaxPooling2D((4, 4), strides=(2, 2)))\n",
    "\n",
    "model.add(layers.Flatten())\n",
    "\n",
    "model.add(layers.Dense(8, activation='relu'))\n",
    "\n",
    "model.add(layers.Dense(10, activation='softmax'))\n",
    "\n",
    "model.compile(optimizer=Adam(learning_rate=0.01), loss='sparse_categorical_crossentropy', metrics=['accuracy'])\n"
   ]
  },
  {
   "cell_type": "code",
   "execution_count": 21,
   "id": "572533e7",
   "metadata": {},
   "outputs": [
    {
     "name": "stdout",
     "output_type": "stream",
     "text": [
      "Epoch 1/5\n",
      "469/469 - 4s - loss: 0.6950 - accuracy: 0.7693 - 4s/epoch - 8ms/step\n",
      "Epoch 2/5\n",
      "469/469 - 3s - loss: 0.3208 - accuracy: 0.9005 - 3s/epoch - 7ms/step\n",
      "Epoch 3/5\n",
      "469/469 - 3s - loss: 0.2642 - accuracy: 0.9180 - 3s/epoch - 7ms/step\n",
      "Epoch 4/5\n",
      "469/469 - 3s - loss: 0.2298 - accuracy: 0.9295 - 3s/epoch - 7ms/step\n",
      "Epoch 5/5\n",
      "469/469 - 3s - loss: 0.2165 - accuracy: 0.9327 - 3s/epoch - 7ms/step\n",
      "313/313 - 1s - loss: 0.2307 - accuracy: 0.9269 - 643ms/epoch - 2ms/step\n",
      "Test Accuracy: 0.9269000291824341\n",
      "Epoch 1/5\n",
      "469/469 - 3s - loss: 0.2015 - accuracy: 0.9378 - 3s/epoch - 7ms/step\n",
      "Epoch 2/5\n",
      "469/469 - 3s - loss: 0.1915 - accuracy: 0.9413 - 3s/epoch - 7ms/step\n",
      "Epoch 3/5\n",
      "469/469 - 3s - loss: 0.1806 - accuracy: 0.9433 - 3s/epoch - 7ms/step\n",
      "Epoch 4/5\n",
      "469/469 - 3s - loss: 0.1779 - accuracy: 0.9447 - 3s/epoch - 7ms/step\n",
      "Epoch 5/5\n",
      "469/469 - 3s - loss: 0.1707 - accuracy: 0.9466 - 3s/epoch - 7ms/step\n",
      "313/313 - 1s - loss: 0.1936 - accuracy: 0.9399 - 543ms/epoch - 2ms/step\n",
      "Test Accuracy: 0.9398999810218811\n",
      "Epoch 1/5\n",
      "469/469 - 3s - loss: 0.1665 - accuracy: 0.9479 - 3s/epoch - 7ms/step\n",
      "Epoch 2/5\n",
      "469/469 - 3s - loss: 0.1644 - accuracy: 0.9490 - 3s/epoch - 7ms/step\n",
      "Epoch 3/5\n",
      "469/469 - 3s - loss: 0.1568 - accuracy: 0.9512 - 3s/epoch - 7ms/step\n",
      "Epoch 4/5\n",
      "469/469 - 3s - loss: 0.1537 - accuracy: 0.9515 - 3s/epoch - 7ms/step\n",
      "Epoch 5/5\n",
      "469/469 - 3s - loss: 0.1505 - accuracy: 0.9529 - 3s/epoch - 7ms/step\n",
      "313/313 - 0s - loss: 0.1654 - accuracy: 0.9504 - 456ms/epoch - 1ms/step\n",
      "Test Accuracy: 0.9503999948501587\n"
     ]
    }
   ],
   "source": [
    "for _ in range(3):\n",
    "    model.fit(np.expand_dims(x_train, axis=-1), y_train, batch_size=128, epochs=5, verbose=2)\n",
    "    _, test_accuracy = model.evaluate(np.expand_dims(x_test, axis=-1), y_test, verbose=2)\n",
    "    print(f'Test Accuracy: {test_accuracy}')"
   ]
  },
  {
   "cell_type": "code",
   "execution_count": null,
   "id": "9f97a09d",
   "metadata": {},
   "outputs": [],
   "source": []
  }
 ],
 "metadata": {
  "kernelspec": {
   "display_name": "Python 3 (ipykernel)",
   "language": "python",
   "name": "python3"
  },
  "language_info": {
   "codemirror_mode": {
    "name": "ipython",
    "version": 3
   },
   "file_extension": ".py",
   "mimetype": "text/x-python",
   "name": "python",
   "nbconvert_exporter": "python",
   "pygments_lexer": "ipython3",
   "version": "3.9.13"
  }
 },
 "nbformat": 4,
 "nbformat_minor": 5
}
